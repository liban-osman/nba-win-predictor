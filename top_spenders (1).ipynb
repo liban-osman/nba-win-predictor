{
  "nbformat": 4,
  "nbformat_minor": 0,
  "metadata": {
    "colab": {
      "name": "top_spenders.ipynb",
      "provenance": []
    },
    "kernelspec": {
      "name": "python3",
      "display_name": "Python 3"
    }
  },
  "cells": [
    {
      "cell_type": "code",
      "metadata": {
        "id": "LnvBFWX9TGqO"
      },
      "source": [
        "import pandas as pd\n",
        "import matplotlib.pyplot as plt"
      ],
      "execution_count": 1,
      "outputs": []
    },
    {
      "cell_type": "code",
      "metadata": {
        "id": "9NTG4HANTOHV"
      },
      "source": [
        "df = pd.read_csv('fixed_orders_orders.csv', index_col=0)"
      ],
      "execution_count": 2,
      "outputs": []
    },
    {
      "cell_type": "code",
      "metadata": {
        "id": "Q1xevAI_TPND"
      },
      "source": [
        "# Dataset is from orders made from Spetember 2020 - current (March 11 2021)"
      ],
      "execution_count": 3,
      "outputs": []
    },
    {
      "cell_type": "code",
      "metadata": {
        "colab": {
          "base_uri": "https://localhost:8080/",
          "height": 226
        },
        "id": "EntqJRqoTXhk",
        "outputId": "9f23225c-e59b-46dc-d119-9f6b31c9f93e"
      },
      "source": [
        "df.head()"
      ],
      "execution_count": 4,
      "outputs": [
        {
          "output_type": "execute_result",
          "data": {
            "text/html": [
              "<div>\n",
              "<style scoped>\n",
              "    .dataframe tbody tr th:only-of-type {\n",
              "        vertical-align: middle;\n",
              "    }\n",
              "\n",
              "    .dataframe tbody tr th {\n",
              "        vertical-align: top;\n",
              "    }\n",
              "\n",
              "    .dataframe thead th {\n",
              "        text-align: right;\n",
              "    }\n",
              "</style>\n",
              "<table border=\"1\" class=\"dataframe\">\n",
              "  <thead>\n",
              "    <tr style=\"text-align: right;\">\n",
              "      <th></th>\n",
              "      <th>Orders Gross Price</th>\n",
              "    </tr>\n",
              "    <tr>\n",
              "      <th>Orders Order ID</th>\n",
              "      <th></th>\n",
              "    </tr>\n",
              "  </thead>\n",
              "  <tbody>\n",
              "    <tr>\n",
              "      <th>2629014913095</th>\n",
              "      <td>$198</td>\n",
              "    </tr>\n",
              "    <tr>\n",
              "      <th>2629034770503</th>\n",
              "      <td>$69</td>\n",
              "    </tr>\n",
              "    <tr>\n",
              "      <th>2629034770503</th>\n",
              "      <td>$39</td>\n",
              "    </tr>\n",
              "    <tr>\n",
              "      <th>2629058625607</th>\n",
              "      <td>$65</td>\n",
              "    </tr>\n",
              "    <tr>\n",
              "      <th>2629060165703</th>\n",
              "      <td>$99</td>\n",
              "    </tr>\n",
              "  </tbody>\n",
              "</table>\n",
              "</div>"
            ],
            "text/plain": [
              "                Orders Gross Price\n",
              "Orders Order ID                   \n",
              "2629014913095                 $198\n",
              "2629034770503                  $69\n",
              "2629034770503                  $39\n",
              "2629058625607                  $65\n",
              "2629060165703                  $99"
            ]
          },
          "metadata": {
            "tags": []
          },
          "execution_count": 4
        }
      ]
    },
    {
      "cell_type": "code",
      "metadata": {
        "id": "nXiLJdtDTYQk"
      },
      "source": [
        "df.columns = [col.replace(' ', '_').lower() for col in df.columns]\n",
        "pd.set_option('display.float_format', lambda x: '%.2f' % x)\n",
        "df[df.columns[0]] = df[df.columns[0]].replace('[\\$,]', '', regex=True).astype(float)"
      ],
      "execution_count": 5,
      "outputs": []
    },
    {
      "cell_type": "code",
      "metadata": {
        "colab": {
          "base_uri": "https://localhost:8080/",
          "height": 226
        },
        "id": "mkMXvcjGTZZD",
        "outputId": "67004a81-c18c-493f-b99a-8fe891d51c8b"
      },
      "source": [
        "df.head()"
      ],
      "execution_count": 6,
      "outputs": [
        {
          "output_type": "execute_result",
          "data": {
            "text/html": [
              "<div>\n",
              "<style scoped>\n",
              "    .dataframe tbody tr th:only-of-type {\n",
              "        vertical-align: middle;\n",
              "    }\n",
              "\n",
              "    .dataframe tbody tr th {\n",
              "        vertical-align: top;\n",
              "    }\n",
              "\n",
              "    .dataframe thead th {\n",
              "        text-align: right;\n",
              "    }\n",
              "</style>\n",
              "<table border=\"1\" class=\"dataframe\">\n",
              "  <thead>\n",
              "    <tr style=\"text-align: right;\">\n",
              "      <th></th>\n",
              "      <th>orders_gross_price</th>\n",
              "    </tr>\n",
              "    <tr>\n",
              "      <th>Orders Order ID</th>\n",
              "      <th></th>\n",
              "    </tr>\n",
              "  </thead>\n",
              "  <tbody>\n",
              "    <tr>\n",
              "      <th>2629014913095</th>\n",
              "      <td>198.00</td>\n",
              "    </tr>\n",
              "    <tr>\n",
              "      <th>2629034770503</th>\n",
              "      <td>69.00</td>\n",
              "    </tr>\n",
              "    <tr>\n",
              "      <th>2629034770503</th>\n",
              "      <td>39.00</td>\n",
              "    </tr>\n",
              "    <tr>\n",
              "      <th>2629058625607</th>\n",
              "      <td>65.00</td>\n",
              "    </tr>\n",
              "    <tr>\n",
              "      <th>2629060165703</th>\n",
              "      <td>99.00</td>\n",
              "    </tr>\n",
              "  </tbody>\n",
              "</table>\n",
              "</div>"
            ],
            "text/plain": [
              "                 orders_gross_price\n",
              "Orders Order ID                    \n",
              "2629014913095                198.00\n",
              "2629034770503                 69.00\n",
              "2629034770503                 39.00\n",
              "2629058625607                 65.00\n",
              "2629060165703                 99.00"
            ]
          },
          "metadata": {
            "tags": []
          },
          "execution_count": 6
        }
      ]
    },
    {
      "cell_type": "code",
      "metadata": {
        "colab": {
          "base_uri": "https://localhost:8080/"
        },
        "id": "C-6Cw8DXTalb",
        "outputId": "c0ce237c-32c1-48b5-b775-fc35c2e95647"
      },
      "source": [
        "df['orders_gross_price'].describe()"
      ],
      "execution_count": 7,
      "outputs": [
        {
          "output_type": "execute_result",
          "data": {
            "text/plain": [
              "count   119671.00\n",
              "mean        92.77\n",
              "std         39.09\n",
              "min         10.00\n",
              "25%         79.00\n",
              "50%         79.00\n",
              "75%         99.00\n",
              "max        357.00\n",
              "Name: orders_gross_price, dtype: float64"
            ]
          },
          "metadata": {
            "tags": []
          },
          "execution_count": 7
        }
      ]
    },
    {
      "cell_type": "code",
      "metadata": {
        "id": "9r3mz31STcTc"
      },
      "source": [
        "# Currently, there is a large percentage of orders with an amount value near the mean"
      ],
      "execution_count": 8,
      "outputs": []
    },
    {
      "cell_type": "code",
      "metadata": {
        "colab": {
          "base_uri": "https://localhost:8080/"
        },
        "id": "i8wTMkEQT3GV",
        "outputId": "19b53338-881c-4dad-d11a-b487db0a8f1b"
      },
      "source": [
        "df['orders_gross_price'].quantile(0.8)"
      ],
      "execution_count": 9,
      "outputs": [
        {
          "output_type": "execute_result",
          "data": {
            "text/plain": [
              "99.0"
            ]
          },
          "metadata": {
            "tags": []
          },
          "execution_count": 9
        }
      ]
    },
    {
      "cell_type": "code",
      "metadata": {
        "colab": {
          "base_uri": "https://localhost:8080/"
        },
        "id": "-p9WCLpgT6N7",
        "outputId": "f774aa43-8c00-44c3-e80d-4c89044a0d8b"
      },
      "source": [
        "df['orders_gross_price'].quantile(0.85)"
      ],
      "execution_count": 10,
      "outputs": [
        {
          "output_type": "execute_result",
          "data": {
            "text/plain": [
              "138.0"
            ]
          },
          "metadata": {
            "tags": []
          },
          "execution_count": 10
        }
      ]
    },
    {
      "cell_type": "code",
      "metadata": {
        "colab": {
          "base_uri": "https://localhost:8080/"
        },
        "id": "3Ni9fICTT7Wr",
        "outputId": "b6e10ed4-691f-4dc6-cc5b-caa7dc8a742c"
      },
      "source": [
        "df['orders_gross_price'].quantile(0.9)"
      ],
      "execution_count": 11,
      "outputs": [
        {
          "output_type": "execute_result",
          "data": {
            "text/plain": [
              "158.0"
            ]
          },
          "metadata": {
            "tags": []
          },
          "execution_count": 11
        }
      ]
    },
    {
      "cell_type": "code",
      "metadata": {
        "colab": {
          "base_uri": "https://localhost:8080/",
          "height": 281
        },
        "id": "3L90DCs3UCy0",
        "outputId": "0aace7c5-05f7-4b96-c3e2-99e27cd12f5a"
      },
      "source": [
        "df.hist(column=['sales'])\n",
        "plt.axvline(df[\"sales\"].quantile(0.8), color='black',linestyle='--')\n",
        "plt.axvline(df[\"sales\"].quantile(0.85), color='black',linestyle='--')\n",
        "plt.axvline(df[\"sales\"].quantile(0.9), color='black',linestyle='--')\n",
        "plt.title('sales')\n",
        "plt.show()"
      ],
      "execution_count": 15,
      "outputs": [
        {
          "output_type": "display_data",
          "data": {
            "image/png": "[encoded data removed]",
            "text/plain": [
              "<Figure size 432x288 with 1 Axes>"
            ]
          },
          "metadata": {
            "tags": [],
            "needs_background": "light"
          }
        }
      ]
    },
    {
      "cell_type": "code",
      "metadata": {
        "id": "nORbaUXxTnis"
      },
      "source": [
        "df1 = df[df[\"orders_gross_price\"] > 99]"
      ],
      "execution_count": null,
      "outputs": []
    },
    {
      "cell_type": "code",
      "metadata": {
        "colab": {
          "base_uri": "https://localhost:8080/"
        },
        "id": "Eix6RvljTyAD",
        "outputId": "14c25aea-4e5a-4ad3-9370-1ac5a251fc9c"
      },
      "source": [
        "df1['orders_gross_price'].describe()"
      ],
      "execution_count": null,
      "outputs": [
        {
          "output_type": "execute_result",
          "data": {
            "text/plain": [
              "count   23172.00\n",
              "mean      161.06\n",
              "std        32.06\n",
              "min       100.00\n",
              "25%       138.00\n",
              "50%       158.00\n",
              "75%       168.00\n",
              "max       357.00\n",
              "Name: orders_gross_price, dtype: float64"
            ]
          },
          "metadata": {
            "tags": []
          },
          "execution_count": 27
        }
      ]
    },
    {
      "cell_type": "code",
      "metadata": {
        "colab": {
          "base_uri": "https://localhost:8080/"
        },
        "id": "fpZn0JOIUj5M",
        "outputId": "8b569ab3-9e9f-46ee-e1df-cc34b943a962"
      },
      "source": [
        "df1['orders_gross_price'].quantile(0.5)"
      ],
      "execution_count": null,
      "outputs": [
        {
          "output_type": "execute_result",
          "data": {
            "text/plain": [
              "158.0"
            ]
          },
          "metadata": {
            "tags": []
          },
          "execution_count": 37
        }
      ]
    },
    {
      "cell_type": "code",
      "metadata": {
        "colab": {
          "base_uri": "https://localhost:8080/"
        },
        "id": "4oMMTkuNUkKL",
        "outputId": "efd744f3-fda1-4a84-e48c-b7656bba5f03"
      },
      "source": [
        "df1['orders_gross_price'].quantile(0.7)"
      ],
      "execution_count": null,
      "outputs": [
        {
          "output_type": "execute_result",
          "data": {
            "text/plain": [
              "168.0"
            ]
          },
          "metadata": {
            "tags": []
          },
          "execution_count": 39
        }
      ]
    },
    {
      "cell_type": "code",
      "metadata": {
        "colab": {
          "base_uri": "https://localhost:8080/"
        },
        "id": "cKYcdvmzUvy9",
        "outputId": "424558ee-35c4-4dec-c4d7-d53e005e11ee"
      },
      "source": [
        "df1['orders_gross_price'].quantile(0.9)"
      ],
      "execution_count": null,
      "outputs": [
        {
          "output_type": "execute_result",
          "data": {
            "text/plain": [
              "198.0"
            ]
          },
          "metadata": {
            "tags": []
          },
          "execution_count": 44
        }
      ]
    },
    {
      "cell_type": "code",
      "metadata": {
        "colab": {
          "base_uri": "https://localhost:8080/",
          "height": 281
        },
        "id": "_IyfocN9T0Xb",
        "outputId": "ea7e7ebe-3a5a-4007-c8f3-3c1c8943be78"
      },
      "source": [
        "df1.hist(column=['orders_gross_price'])\n",
        "plt.axvline(df1[\"orders_gross_price\"].quantile(0.5), color='black',linestyle='--')\n",
        "plt.axvline(df1[\"orders_gross_price\"].quantile(0.7), color='black',linestyle='--')\n",
        "plt.axvline(df1[\"orders_gross_price\"].quantile(0.9), color='black',linestyle='--')\n",
        "plt.show()"
      ],
      "execution_count": null,
      "outputs": [
        {
          "output_type": "display_data",
          "data": {
            "image/png": "[encoded data removed]",
            "text/plain": [
              "<Figure size 432x288 with 1 Axes>"
            ]
          },
          "metadata": {
            "tags": [],
            "needs_background": "light"
          }
        }
      ]
    },
    {
      "cell_type": "code",
      "metadata": {
        "colab": {
          "base_uri": "https://localhost:8080/",
          "height": 266
        },
        "id": "IANKNtEPUOjE",
        "outputId": "65f0c981-24b1-488a-a874-cad491afae62"
      },
      "source": [
        "df1.boxplot(column=['orders_gross_price'])\n",
        "plt.axhline(df1[\"orders_gross_price\"].quantile(0.8), color='black',linestyle='--')\n",
        "plt.axhline(df1[\"orders_gross_price\"].quantile(0.9), color='black',linestyle='--')\n",
        "plt.show()"
      ],
      "execution_count": null,
      "outputs": [
        {
          "output_type": "display_data",
          "data": {
            "image/png": "[encoded data removed]",
            "text/plain": [
              "<Figure size 432x288 with 1 Axes>"
            ]
          },
          "metadata": {
            "tags": [],
            "needs_background": "light"
          }
        }
      ]
    },
    {
      "cell_type": "code",
      "metadata": {
        "id": "NetictIGUaXj"
      },
      "source": [
        "# Currently, orders of $158 and above are in the top 10% of orders made in the past 7 months"
      ],
      "execution_count": null,
      "outputs": []
    },
    {
      "cell_type": "code",
      "metadata": {
        "id": "BEV4PuD4XKHN"
      },
      "source": [
        "df2 = df1[df1[\"orders_gross_price\"] == 158]"
      ],
      "execution_count": null,
      "outputs": []
    },
    {
      "cell_type": "code",
      "metadata": {
        "id": "cWGbqvKBXhZN"
      },
      "source": [
        "df3 = df1[df1[\"orders_gross_price\"] > 158]"
      ],
      "execution_count": null,
      "outputs": []
    },
    {
      "cell_type": "code",
      "metadata": {
        "id": "MVcY62XUYbt7"
      },
      "source": [
        "df4 = df1[df1[\"orders_gross_price\"] >= 158]"
      ],
      "execution_count": null,
      "outputs": []
    },
    {
      "cell_type": "code",
      "metadata": {
        "colab": {
          "base_uri": "https://localhost:8080/",
          "height": 281
        },
        "id": "T_3xBh__aQRj",
        "outputId": "0b56c841-42fe-4a62-bc00-cfa89a93aee3"
      },
      "source": [
        "df3.hist(column=['orders_gross_price'])\n",
        "plt.show()"
      ],
      "execution_count": null,
      "outputs": [
        {
          "output_type": "display_data",
          "data": {
            "image/png": "[encoded data removed]",
            "text/plain": [
              "<Figure size 432x288 with 1 Axes>"
            ]
          },
          "metadata": {
            "tags": [],
            "needs_background": "light"
          }
        }
      ]
    },
    {
      "cell_type": "code",
      "metadata": {
        "colab": {
          "base_uri": "https://localhost:8080/",
          "height": 281
        },
        "id": "hYecaoiRaQdr",
        "outputId": "2d0fdcd4-1166-4566-bded-fbc5f5e5df7d"
      },
      "source": [
        "df4.hist(column=['orders_gross_price'])\n",
        "plt.show()"
      ],
      "execution_count": null,
      "outputs": [
        {
          "output_type": "display_data",
          "data": {
            "image/png": "[encoded data removed]",
            "text/plain": [
              "<Figure size 432x288 with 1 Axes>"
            ]
          },
          "metadata": {
            "tags": [],
            "needs_background": "light"
          }
        }
      ]
    },
    {
      "cell_type": "code",
      "metadata": {
        "colab": {
          "base_uri": "https://localhost:8080/",
          "height": 297
        },
        "id": "3hP57Hk9XRv7",
        "outputId": "17c75302-7fbb-49a8-f49e-425dae708ee0"
      },
      "source": [
        "df2.describe()"
      ],
      "execution_count": null,
      "outputs": [
        {
          "output_type": "execute_result",
          "data": {
            "text/html": [
              "<div>\n",
              "<style scoped>\n",
              "    .dataframe tbody tr th:only-of-type {\n",
              "        vertical-align: middle;\n",
              "    }\n",
              "\n",
              "    .dataframe tbody tr th {\n",
              "        vertical-align: top;\n",
              "    }\n",
              "\n",
              "    .dataframe thead th {\n",
              "        text-align: right;\n",
              "    }\n",
              "</style>\n",
              "<table border=\"1\" class=\"dataframe\">\n",
              "  <thead>\n",
              "    <tr style=\"text-align: right;\">\n",
              "      <th></th>\n",
              "      <th>orders_gross_price</th>\n",
              "    </tr>\n",
              "  </thead>\n",
              "  <tbody>\n",
              "    <tr>\n",
              "      <th>count</th>\n",
              "      <td>6886.00</td>\n",
              "    </tr>\n",
              "    <tr>\n",
              "      <th>mean</th>\n",
              "      <td>158.00</td>\n",
              "    </tr>\n",
              "    <tr>\n",
              "      <th>std</th>\n",
              "      <td>0.00</td>\n",
              "    </tr>\n",
              "    <tr>\n",
              "      <th>min</th>\n",
              "      <td>158.00</td>\n",
              "    </tr>\n",
              "    <tr>\n",
              "      <th>25%</th>\n",
              "      <td>158.00</td>\n",
              "    </tr>\n",
              "    <tr>\n",
              "      <th>50%</th>\n",
              "      <td>158.00</td>\n",
              "    </tr>\n",
              "    <tr>\n",
              "      <th>75%</th>\n",
              "      <td>158.00</td>\n",
              "    </tr>\n",
              "    <tr>\n",
              "      <th>max</th>\n",
              "      <td>158.00</td>\n",
              "    </tr>\n",
              "  </tbody>\n",
              "</table>\n",
              "</div>"
            ],
            "text/plain": [
              "       orders_gross_price\n",
              "count             6886.00\n",
              "mean               158.00\n",
              "std                  0.00\n",
              "min                158.00\n",
              "25%                158.00\n",
              "50%                158.00\n",
              "75%                158.00\n",
              "max                158.00"
            ]
          },
          "metadata": {
            "tags": []
          },
          "execution_count": 48
        }
      ]
    },
    {
      "cell_type": "code",
      "metadata": {
        "colab": {
          "base_uri": "https://localhost:8080/",
          "height": 297
        },
        "id": "w8qAfv0FXkD7",
        "outputId": "cc67ba47-5dea-46bb-cb10-b91c584593e5"
      },
      "source": [
        "df3.describe()"
      ],
      "execution_count": null,
      "outputs": [
        {
          "output_type": "execute_result",
          "data": {
            "text/html": [
              "<div>\n",
              "<style scoped>\n",
              "    .dataframe tbody tr th:only-of-type {\n",
              "        vertical-align: middle;\n",
              "    }\n",
              "\n",
              "    .dataframe tbody tr th {\n",
              "        vertical-align: top;\n",
              "    }\n",
              "\n",
              "    .dataframe thead th {\n",
              "        text-align: right;\n",
              "    }\n",
              "</style>\n",
              "<table border=\"1\" class=\"dataframe\">\n",
              "  <thead>\n",
              "    <tr style=\"text-align: right;\">\n",
              "      <th></th>\n",
              "      <th>orders_gross_price</th>\n",
              "    </tr>\n",
              "  </thead>\n",
              "  <tbody>\n",
              "    <tr>\n",
              "      <th>count</th>\n",
              "      <td>8681.00</td>\n",
              "    </tr>\n",
              "    <tr>\n",
              "      <th>mean</th>\n",
              "      <td>189.84</td>\n",
              "    </tr>\n",
              "    <tr>\n",
              "      <th>std</th>\n",
              "      <td>32.51</td>\n",
              "    </tr>\n",
              "    <tr>\n",
              "      <th>min</th>\n",
              "      <td>165.00</td>\n",
              "    </tr>\n",
              "    <tr>\n",
              "      <th>25%</th>\n",
              "      <td>168.00</td>\n",
              "    </tr>\n",
              "    <tr>\n",
              "      <th>50%</th>\n",
              "      <td>168.00</td>\n",
              "    </tr>\n",
              "    <tr>\n",
              "      <th>75%</th>\n",
              "      <td>198.00</td>\n",
              "    </tr>\n",
              "    <tr>\n",
              "      <th>max</th>\n",
              "      <td>357.00</td>\n",
              "    </tr>\n",
              "  </tbody>\n",
              "</table>\n",
              "</div>"
            ],
            "text/plain": [
              "       orders_gross_price\n",
              "count             8681.00\n",
              "mean               189.84\n",
              "std                 32.51\n",
              "min                165.00\n",
              "25%                168.00\n",
              "50%                168.00\n",
              "75%                198.00\n",
              "max                357.00"
            ]
          },
          "metadata": {
            "tags": []
          },
          "execution_count": 50
        }
      ]
    },
    {
      "cell_type": "code",
      "metadata": {
        "colab": {
          "base_uri": "https://localhost:8080/",
          "height": 297
        },
        "id": "mnvBbg2sYffK",
        "outputId": "212f9145-f72e-4bb4-fce8-f274f484b379"
      },
      "source": [
        "df4.describe()"
      ],
      "execution_count": null,
      "outputs": [
        {
          "output_type": "execute_result",
          "data": {
            "text/html": [
              "<div>\n",
              "<style scoped>\n",
              "    .dataframe tbody tr th:only-of-type {\n",
              "        vertical-align: middle;\n",
              "    }\n",
              "\n",
              "    .dataframe tbody tr th {\n",
              "        vertical-align: top;\n",
              "    }\n",
              "\n",
              "    .dataframe thead th {\n",
              "        text-align: right;\n",
              "    }\n",
              "</style>\n",
              "<table border=\"1\" class=\"dataframe\">\n",
              "  <thead>\n",
              "    <tr style=\"text-align: right;\">\n",
              "      <th></th>\n",
              "      <th>orders_gross_price</th>\n",
              "    </tr>\n",
              "  </thead>\n",
              "  <tbody>\n",
              "    <tr>\n",
              "      <th>count</th>\n",
              "      <td>15567.00</td>\n",
              "    </tr>\n",
              "    <tr>\n",
              "      <th>mean</th>\n",
              "      <td>175.76</td>\n",
              "    </tr>\n",
              "    <tr>\n",
              "      <th>std</th>\n",
              "      <td>28.97</td>\n",
              "    </tr>\n",
              "    <tr>\n",
              "      <th>min</th>\n",
              "      <td>158.00</td>\n",
              "    </tr>\n",
              "    <tr>\n",
              "      <th>25%</th>\n",
              "      <td>158.00</td>\n",
              "    </tr>\n",
              "    <tr>\n",
              "      <th>50%</th>\n",
              "      <td>168.00</td>\n",
              "    </tr>\n",
              "    <tr>\n",
              "      <th>75%</th>\n",
              "      <td>168.00</td>\n",
              "    </tr>\n",
              "    <tr>\n",
              "      <th>max</th>\n",
              "      <td>357.00</td>\n",
              "    </tr>\n",
              "  </tbody>\n",
              "</table>\n",
              "</div>"
            ],
            "text/plain": [
              "       orders_gross_price\n",
              "count            15567.00\n",
              "mean               175.76\n",
              "std                 28.97\n",
              "min                158.00\n",
              "25%                158.00\n",
              "50%                168.00\n",
              "75%                168.00\n",
              "max                357.00"
            ]
          },
          "metadata": {
            "tags": []
          },
          "execution_count": 55
        }
      ]
    },
    {
      "cell_type": "code",
      "metadata": {
        "id": "dQV0nKAxXThL"
      },
      "source": [
        "# The price point of $158 has a count of 6886.\n",
        "# Price points aboce $158 have a count of 8681\n",
        "# Price point of $158 and above is count 15,567\n",
        "# The TOTAL intiial count with all orders is 119,671"
      ],
      "execution_count": null,
      "outputs": []
    },
    {
      "cell_type": "code",
      "metadata": {
        "colab": {
          "base_uri": "https://localhost:8080/"
        },
        "id": "7ENACqFPXx07",
        "outputId": "da50a24c-4772-4633-accc-64c15200a8f2"
      },
      "source": [
        "print(8681/119671)\n",
        "print(15567/119671)"
      ],
      "execution_count": null,
      "outputs": [
        {
          "output_type": "stream",
          "text": [
            "0.0725405486709395\n",
            "0.13008164049769785\n"
          ],
          "name": "stdout"
        }
      ]
    },
    {
      "cell_type": "code",
      "metadata": {
        "id": "5DZZ7A6SYRYa"
      },
      "source": [
        "# Thus orders above the value of $158 take up 7.25% \n",
        "# Orders of $158 or more take up 13% os orders"
      ],
      "execution_count": null,
      "outputs": []
    },
    {
      "cell_type": "markdown",
      "metadata": {
        "id": "8ZbxRDKKZnTS"
      },
      "source": [
        "13% of the top orders seems like a good fit for top spenders. Would reccomend $158 and above as a \"top-spender\" price point."
      ]
    }
  ]
}